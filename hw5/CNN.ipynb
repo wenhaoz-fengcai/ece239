{
 "cells": [
  {
   "cell_type": "markdown",
   "metadata": {},
   "source": [
    "# Convolutional neural networks\n",
    "\n",
    "In this notebook, we'll put together our convolutional layers to implement a 3-layer CNN.  Then, we'll ask you to implement a CNN that can achieve > 65% validation error on CIFAR-10.\n",
    "\n",
    "CS231n has built a solid API for building these modular frameworks and training them, and we will use their very well implemented framework as opposed to \"reinventing the wheel.\"  This includes using their Solver, various utility functions, their layer structure, and their implementation of fast CNN layers.  This also includes nndl.fc_net, nndl.layers, and nndl.layer_utils.  As in prior assignments, we thank Serena Yeung & Justin Johnson for permission to use code written for the CS 231n class (cs231n.stanford.edu).  \n",
    "\n",
    "If you have not completed the Spatial BatchNorm Notebook, please see the following description from that notebook:\n",
    "\n",
    "Please copy and paste your prior implemented code from HW #4 to start this assignment.  If you did not correctly implement the layers in HW #4, you may collaborate with a classmate to use their layer implementations from HW #4.  You may also visit TA or Prof OH to correct your implementation.  \n",
    "\n",
    "You'll want to copy and paste from HW #4:\n",
    "    - layers.py for your FC network layers, as well as batchnorm and dropout.\n",
    "    - layer_utils.py for your combined FC network layers.\n",
    "    - optim.py for your optimizers.\n",
    "\n",
    "Be sure to place these in the `nndl/` directory so they're imported correctly.  Note, as announced in class, we will not be releasing our solutions."
   ]
  },
  {
   "cell_type": "code",
   "execution_count": 1,
   "metadata": {},
   "outputs": [],
   "source": [
    "# As usual, a bit of setup\n",
    "\n",
    "import numpy as np\n",
    "import matplotlib.pyplot as plt\n",
    "from nndl.cnn import *\n",
    "from cs231n.data_utils import get_CIFAR10_data\n",
    "from cs231n.gradient_check import eval_numerical_gradient_array, eval_numerical_gradient\n",
    "from nndl.layers import *\n",
    "from nndl.conv_layers import *\n",
    "from cs231n.fast_layers import *\n",
    "from cs231n.solver import Solver\n",
    "\n",
    "%matplotlib inline\n",
    "plt.rcParams['figure.figsize'] = (10.0, 8.0) # set default size of plots\n",
    "plt.rcParams['image.interpolation'] = 'nearest'\n",
    "plt.rcParams['image.cmap'] = 'gray'\n",
    "\n",
    "# for auto-reloading external modules\n",
    "# see http://stackoverflow.com/questions/1907993/autoreload-of-modules-in-ipython\n",
    "%load_ext autoreload\n",
    "%autoreload 2\n",
    "\n",
    "def rel_error(x, y):\n",
    "  \"\"\" returns relative error \"\"\"\n",
    "  return np.max(np.abs(x - y) / (np.maximum(1e-8, np.abs(x) + np.abs(y))))"
   ]
  },
  {
   "cell_type": "code",
   "execution_count": 3,
   "metadata": {},
   "outputs": [
    {
     "name": "stdout",
     "output_type": "stream",
     "text": [
      "X_train: (49000, 3, 32, 32) \n",
      "y_train: (49000,) \n",
      "X_val: (1000, 3, 32, 32) \n",
      "y_val: (1000,) \n",
      "X_test: (1000, 3, 32, 32) \n",
      "y_test: (1000,) \n"
     ]
    }
   ],
   "source": [
    "# Load the (preprocessed) CIFAR10 data.\n",
    "\n",
    "data = get_CIFAR10_data()\n",
    "for k in data.keys():\n",
    "  print('{}: {} '.format(k, data[k].shape))"
   ]
  },
  {
   "cell_type": "markdown",
   "metadata": {},
   "source": [
    "## Three layer CNN\n",
    "\n",
    "In this notebook, you will implement a three layer CNN.  The `ThreeLayerConvNet` class is in `nndl/cnn.py`.  You'll need to modify that code for this section, including the initialization, as well as the calculation of the loss and gradients.  You should be able to use the building blocks you have either earlier coded or that we have provided.  Be sure to use the fast layers.\n",
    "\n",
    "The architecture of this CNN will be:\n",
    "\n",
    "conv - relu - 2x2 max pool - affine - relu - affine - softmax\n",
    "\n",
    "We won't use batchnorm yet.  You've also done enough of these to know how to debug; use the cells below.\n",
    "\n",
    "Note: As we are implementing several layers CNN networks. The gradient error can be expected for the `eval_numerical_gradient()` function. If your `W1 max relative error` and `W2 max relative error` are around or below 0.01, they should be acceptable. Other errors should be less than 1e-5. "
   ]
  },
  {
   "cell_type": "code",
   "execution_count": 29,
   "metadata": {},
   "outputs": [
    {
     "name": "stdout",
     "output_type": "stream",
     "text": [
      "W1 max relative error: 0.004812337336643905\n",
      "W2 max relative error: 0.01450441326999331\n",
      "W3 max relative error: 0.0007286482577449034\n",
      "b1 max relative error: 6.617482075281877e-05\n",
      "b2 max relative error: 1.1532530928130071e-06\n",
      "b3 max relative error: 1.2864764213623405e-09\n"
     ]
    }
   ],
   "source": [
    "num_inputs = 2\n",
    "input_dim = (3, 16, 16)\n",
    "reg = 0.0\n",
    "num_classes = 10\n",
    "X = np.random.randn(num_inputs, *input_dim)\n",
    "y = np.random.randint(num_classes, size=num_inputs)\n",
    "\n",
    "model = ThreeLayerConvNet(num_filters=3, filter_size=3,\n",
    "                          input_dim=input_dim, hidden_dim=7,\n",
    "                          dtype=np.float64)\n",
    "loss, grads = model.loss(X, y)\n",
    "for param_name in sorted(grads):\n",
    "    f = lambda _: model.loss(X, y)[0]\n",
    "    param_grad_num = eval_numerical_gradient(f, model.params[param_name], verbose=False, h=1e-6)\n",
    "    e = rel_error(param_grad_num, grads[param_name])\n",
    "    print('{} max relative error: {}'.format(param_name, rel_error(param_grad_num, grads[param_name])))"
   ]
  },
  {
   "cell_type": "markdown",
   "metadata": {},
   "source": [
    "### Overfit small dataset\n",
    "\n",
    "To check your CNN implementation, let's overfit a small dataset."
   ]
  },
  {
   "cell_type": "code",
   "execution_count": 20,
   "metadata": {},
   "outputs": [
    {
     "name": "stdout",
     "output_type": "stream",
     "text": [
      "(Iteration 1 / 20) loss: 2.379549\n",
      "(Epoch 0 / 10) train acc: 0.130000; val_acc: 0.112000\n",
      "(Iteration 2 / 20) loss: 5.471573\n",
      "(Epoch 1 / 10) train acc: 0.290000; val_acc: 0.162000\n",
      "(Iteration 3 / 20) loss: 2.547492\n",
      "(Iteration 4 / 20) loss: 3.046288\n",
      "(Epoch 2 / 10) train acc: 0.220000; val_acc: 0.091000\n",
      "(Iteration 5 / 20) loss: 2.254984\n",
      "(Iteration 6 / 20) loss: 2.885380\n",
      "(Epoch 3 / 10) train acc: 0.280000; val_acc: 0.108000\n",
      "(Iteration 7 / 20) loss: 2.148274\n",
      "(Iteration 8 / 20) loss: 1.699411\n",
      "(Epoch 4 / 10) train acc: 0.340000; val_acc: 0.196000\n",
      "(Iteration 9 / 20) loss: 2.176391\n",
      "(Iteration 10 / 20) loss: 2.144101\n",
      "(Epoch 5 / 10) train acc: 0.540000; val_acc: 0.200000\n",
      "(Iteration 11 / 20) loss: 1.593123\n",
      "(Iteration 12 / 20) loss: 1.574096\n",
      "(Epoch 6 / 10) train acc: 0.600000; val_acc: 0.172000\n",
      "(Iteration 13 / 20) loss: 1.403415\n",
      "(Iteration 14 / 20) loss: 1.315577\n",
      "(Epoch 7 / 10) train acc: 0.600000; val_acc: 0.176000\n",
      "(Iteration 15 / 20) loss: 1.221649\n",
      "(Iteration 16 / 20) loss: 1.155442\n",
      "(Epoch 8 / 10) train acc: 0.670000; val_acc: 0.198000\n",
      "(Iteration 17 / 20) loss: 1.136126\n",
      "(Iteration 18 / 20) loss: 1.031192\n",
      "(Epoch 9 / 10) train acc: 0.750000; val_acc: 0.175000\n",
      "(Iteration 19 / 20) loss: 0.831518\n",
      "(Iteration 20 / 20) loss: 0.883879\n",
      "(Epoch 10 / 10) train acc: 0.850000; val_acc: 0.184000\n"
     ]
    }
   ],
   "source": [
    "num_train = 100\n",
    "small_data = {\n",
    "  'X_train': data['X_train'][:num_train],\n",
    "  'y_train': data['y_train'][:num_train],\n",
    "  'X_val': data['X_val'],\n",
    "  'y_val': data['y_val'],\n",
    "}\n",
    "\n",
    "model = ThreeLayerConvNet(weight_scale=1e-2)\n",
    "\n",
    "solver = Solver(model, small_data,\n",
    "                num_epochs=10, batch_size=50,\n",
    "                update_rule='adam',\n",
    "                optim_config={\n",
    "                  'learning_rate': 1e-3,\n",
    "                },\n",
    "                verbose=True, print_every=1)\n",
    "solver.train()"
   ]
  },
  {
   "cell_type": "code",
   "execution_count": 21,
   "metadata": {},
   "outputs": [
    {
     "data": {
      "image/png": "[encoded data removed]",
      "text/plain": [
       "<matplotlib.figure.Figure at 0x1158a9080>"
      ]
     },
     "metadata": {},
     "output_type": "display_data"
    }
   ],
   "source": [
    "plt.subplot(2, 1, 1)\n",
    "plt.plot(solver.loss_history, 'o')\n",
    "plt.xlabel('iteration')\n",
    "plt.ylabel('loss')\n",
    "\n",
    "plt.subplot(2, 1, 2)\n",
    "plt.plot(solver.train_acc_history, '-o')\n",
    "plt.plot(solver.val_acc_history, '-o')\n",
    "plt.legend(['train', 'val'], loc='upper left')\n",
    "plt.xlabel('epoch')\n",
    "plt.ylabel('accuracy')\n",
    "plt.show()"
   ]
  },
  {
   "cell_type": "markdown",
   "metadata": {},
   "source": [
    "## Train the network\n",
    "\n",
    "Now we train the 3 layer CNN on CIFAR-10 and assess its accuracy."
   ]
  },
  {
   "cell_type": "code",
   "execution_count": 23,
   "metadata": {
    "scrolled": false
   },
   "outputs": [
    {
     "name": "stdout",
     "output_type": "stream",
     "text": [
      "(Iteration 1 / 980) loss: 2.304700\n",
      "(Epoch 0 / 1) train acc: 0.106000; val_acc: 0.112000\n",
      "(Iteration 201 / 980) loss: 1.800642\n",
      "(Iteration 401 / 980) loss: 1.719291\n",
      "(Iteration 601 / 980) loss: 1.725581\n",
      "(Iteration 801 / 980) loss: 1.812075\n",
      "(Epoch 1 / 1) train acc: 0.440000; val_acc: 0.449000\n"
     ]
    }
   ],
   "source": [
    "model = ThreeLayerConvNet(weight_scale=0.001, hidden_dim=500, reg=0.001)\n",
    "\n",
    "solver = Solver(model, data,\n",
    "                num_epochs=1, batch_size=50,\n",
    "                update_rule='adam',\n",
    "                optim_config={\n",
    "                  'learning_rate': 1e-3,\n",
    "                },\n",
    "                verbose=True, print_every=200)\n",
    "solver.train()"
   ]
  },
  {
   "cell_type": "markdown",
   "metadata": {},
   "source": [
    "# Get > 65% validation accuracy on CIFAR-10.\n",
    "\n",
    "In the last part of the assignment, we'll now ask you to train a CNN to get better than 65% validation accuracy on CIFAR-10.\n",
    "\n",
    "### Things you should try:\n",
    "- Filter size: Above we used 7x7; but VGGNet and onwards showed stacks of 3x3 filters are good.  \n",
    "- Number of filters: Above we used 32 filters. Do more or fewer do better?\n",
    "- Batch normalization: Try adding spatial batch normalization after convolution layers and vanilla batch normalization aafter affine layers. Do your networks train faster?\n",
    "- Network architecture: Can a deeper CNN do better?  Consider these architectures:\n",
    "    - [conv-relu-pool]xN - conv - relu - [affine]xM - [softmax or SVM]\n",
    "    - [conv-relu-pool]XN - [affine]XM - [softmax or SVM]\n",
    "    - [conv-relu-conv-relu-pool]xN - [affine]xM - [softmax or SVM]\n",
    "\n",
    "### Tips for training\n",
    "For each network architecture that you try, you should tune the learning rate and regularization strength. When doing this there are a couple important things to keep in mind:\n",
    "\n",
    "- If the parameters are working well, you should see improvement within a few hundred iterations\n",
    "- Remember the coarse-to-fine approach for hyperparameter tuning: start by testing a large range of hyperparameters for just a few training iterations to find the combinations of parameters that are working at all.\n",
    "- Once you have found some sets of parameters that seem to work, search more finely around these parameters. You may need to train for more epochs."
   ]
  },
  {
   "cell_type": "code",
   "execution_count": 35,
   "metadata": {
    "scrolled": false
   },
   "outputs": [
    {
     "name": "stdout",
     "output_type": "stream",
     "text": [
      "(Iteration 1 / 2450) loss: 2.306341\n",
      "(Epoch 0 / 10) train acc: 0.099000; val_acc: 0.079000\n",
      "(Iteration 21 / 2450) loss: 1.976125\n",
      "(Iteration 41 / 2450) loss: 1.886728\n",
      "(Iteration 61 / 2450) loss: 1.781854\n",
      "(Iteration 81 / 2450) loss: 1.641776\n",
      "(Iteration 101 / 2450) loss: 1.648152\n",
      "(Iteration 121 / 2450) loss: 1.716968\n",
      "(Iteration 141 / 2450) loss: 1.807620\n",
      "(Iteration 161 / 2450) loss: 1.603685\n",
      "(Iteration 181 / 2450) loss: 1.685909\n",
      "(Iteration 201 / 2450) loss: 1.653785\n",
      "(Iteration 221 / 2450) loss: 1.470225\n",
      "(Iteration 241 / 2450) loss: 1.461085\n",
      "(Epoch 1 / 10) train acc: 0.500000; val_acc: 0.493000\n",
      "(Iteration 261 / 2450) loss: 1.607523\n",
      "(Iteration 281 / 2450) loss: 1.596223\n",
      "(Iteration 301 / 2450) loss: 1.529539\n",
      "(Iteration 321 / 2450) loss: 1.561751\n",
      "(Iteration 341 / 2450) loss: 1.423887\n",
      "(Iteration 361 / 2450) loss: 1.431400\n",
      "(Iteration 381 / 2450) loss: 1.620188\n",
      "(Iteration 401 / 2450) loss: 1.456177\n",
      "(Iteration 421 / 2450) loss: 1.345105\n",
      "(Iteration 441 / 2450) loss: 1.431115\n",
      "(Iteration 461 / 2450) loss: 1.558521\n",
      "(Iteration 481 / 2450) loss: 1.335780\n",
      "(Epoch 2 / 10) train acc: 0.576000; val_acc: 0.566000\n",
      "(Iteration 501 / 2450) loss: 1.265070\n",
      "(Iteration 521 / 2450) loss: 1.368548\n",
      "(Iteration 541 / 2450) loss: 1.529852\n",
      "(Iteration 561 / 2450) loss: 1.406083\n",
      "(Iteration 581 / 2450) loss: 1.270158\n",
      "(Iteration 601 / 2450) loss: 1.501355\n",
      "(Iteration 621 / 2450) loss: 1.424284\n",
      "(Iteration 641 / 2450) loss: 1.319546\n",
      "(Iteration 661 / 2450) loss: 1.290030\n",
      "(Iteration 681 / 2450) loss: 1.361492\n",
      "(Iteration 701 / 2450) loss: 1.237733\n",
      "(Iteration 721 / 2450) loss: 1.326127\n",
      "(Epoch 3 / 10) train acc: 0.608000; val_acc: 0.606000\n",
      "(Iteration 741 / 2450) loss: 1.163529\n",
      "(Iteration 761 / 2450) loss: 1.444245\n",
      "(Iteration 781 / 2450) loss: 1.260037\n",
      "(Iteration 801 / 2450) loss: 1.306065\n",
      "(Iteration 821 / 2450) loss: 1.264162\n",
      "(Iteration 841 / 2450) loss: 1.172054\n",
      "(Iteration 861 / 2450) loss: 1.146447\n",
      "(Iteration 881 / 2450) loss: 1.101115\n",
      "(Iteration 901 / 2450) loss: 1.447049\n",
      "(Iteration 921 / 2450) loss: 1.180610\n",
      "(Iteration 941 / 2450) loss: 1.196646\n",
      "(Iteration 961 / 2450) loss: 1.241327\n",
      "(Epoch 4 / 10) train acc: 0.680000; val_acc: 0.626000\n",
      "(Iteration 981 / 2450) loss: 1.195534\n",
      "(Iteration 1001 / 2450) loss: 1.259109\n",
      "(Iteration 1021 / 2450) loss: 1.146391\n",
      "(Iteration 1041 / 2450) loss: 1.126685\n",
      "(Iteration 1061 / 2450) loss: 1.131606\n",
      "(Iteration 1081 / 2450) loss: 1.221179\n",
      "(Iteration 1101 / 2450) loss: 1.303018\n",
      "(Iteration 1121 / 2450) loss: 1.064674\n",
      "(Iteration 1141 / 2450) loss: 1.245467\n",
      "(Iteration 1161 / 2450) loss: 1.247901\n",
      "(Iteration 1181 / 2450) loss: 1.230593\n",
      "(Iteration 1201 / 2450) loss: 1.219144\n",
      "(Iteration 1221 / 2450) loss: 1.288152\n",
      "(Epoch 5 / 10) train acc: 0.704000; val_acc: 0.622000\n",
      "(Iteration 1241 / 2450) loss: 1.271178\n",
      "(Iteration 1261 / 2450) loss: 1.582372\n",
      "(Iteration 1281 / 2450) loss: 1.250645\n",
      "(Iteration 1301 / 2450) loss: 1.096538\n",
      "(Iteration 1321 / 2450) loss: 1.221986\n",
      "(Iteration 1341 / 2450) loss: 1.292764\n",
      "(Iteration 1361 / 2450) loss: 1.300667\n",
      "(Iteration 1381 / 2450) loss: 1.203317\n",
      "(Iteration 1401 / 2450) loss: 1.036425\n",
      "(Iteration 1421 / 2450) loss: 1.266016\n",
      "(Iteration 1441 / 2450) loss: 1.129221\n",
      "(Iteration 1461 / 2450) loss: 1.167373\n",
      "(Epoch 6 / 10) train acc: 0.698000; val_acc: 0.637000\n",
      "(Iteration 1481 / 2450) loss: 1.238139\n",
      "(Iteration 1501 / 2450) loss: 1.090282\n",
      "(Iteration 1521 / 2450) loss: 1.174506\n",
      "(Iteration 1541 / 2450) loss: 1.229919\n",
      "(Iteration 1561 / 2450) loss: 1.224695\n",
      "(Iteration 1581 / 2450) loss: 1.150030\n",
      "(Iteration 1601 / 2450) loss: 1.092471\n",
      "(Iteration 1621 / 2450) loss: 1.162074\n",
      "(Iteration 1641 / 2450) loss: 1.121782\n",
      "(Iteration 1661 / 2450) loss: 1.027471\n",
      "(Iteration 1681 / 2450) loss: 1.299393\n",
      "(Iteration 1701 / 2450) loss: 1.196419\n",
      "(Epoch 7 / 10) train acc: 0.695000; val_acc: 0.649000\n",
      "(Iteration 1721 / 2450) loss: 1.377454\n",
      "(Iteration 1741 / 2450) loss: 1.291245\n",
      "(Iteration 1761 / 2450) loss: 1.188921\n",
      "(Iteration 1781 / 2450) loss: 1.212445\n",
      "(Iteration 1801 / 2450) loss: 1.194442\n",
      "(Iteration 1821 / 2450) loss: 1.150214\n",
      "(Iteration 1841 / 2450) loss: 1.089270\n",
      "(Iteration 1861 / 2450) loss: 1.314571\n",
      "(Iteration 1881 / 2450) loss: 1.169995\n",
      "(Iteration 1901 / 2450) loss: 1.122518\n",
      "(Iteration 1921 / 2450) loss: 1.006797\n",
      "(Iteration 1941 / 2450) loss: 1.091766\n",
      "(Epoch 8 / 10) train acc: 0.729000; val_acc: 0.658000\n",
      "(Iteration 1961 / 2450) loss: 1.164750\n",
      "(Iteration 1981 / 2450) loss: 1.118028\n",
      "(Iteration 2001 / 2450) loss: 1.058550\n",
      "(Iteration 2021 / 2450) loss: 1.048982\n",
      "(Iteration 2041 / 2450) loss: 1.087406\n",
      "(Iteration 2061 / 2450) loss: 1.004180\n",
      "(Iteration 2081 / 2450) loss: 1.100795\n",
      "(Iteration 2101 / 2450) loss: 1.217981\n",
      "(Iteration 2121 / 2450) loss: 1.157245\n",
      "(Iteration 2141 / 2450) loss: 1.154572\n",
      "(Iteration 2161 / 2450) loss: 1.006709\n",
      "(Iteration 2181 / 2450) loss: 1.104969\n",
      "(Iteration 2201 / 2450) loss: 1.128578\n",
      "(Epoch 9 / 10) train acc: 0.726000; val_acc: 0.639000\n",
      "(Iteration 2221 / 2450) loss: 1.201443\n",
      "(Iteration 2241 / 2450) loss: 1.167473\n",
      "(Iteration 2261 / 2450) loss: 1.114371\n",
      "(Iteration 2281 / 2450) loss: 1.062866\n",
      "(Iteration 2301 / 2450) loss: 1.035795\n",
      "(Iteration 2321 / 2450) loss: 1.075891\n",
      "(Iteration 2341 / 2450) loss: 1.116196\n",
      "(Iteration 2361 / 2450) loss: 0.990450\n",
      "(Iteration 2381 / 2450) loss: 1.052460\n",
      "(Iteration 2401 / 2450) loss: 0.955032\n",
      "(Iteration 2421 / 2450) loss: 1.154651\n",
      "(Iteration 2441 / 2450) loss: 1.159997\n",
      "(Epoch 10 / 10) train acc: 0.760000; val_acc: 0.653000\n"
     ]
    }
   ],
   "source": [
    "# ================================================================ #\n",
    "# YOUR CODE HERE:\n",
    "#   Implement a CNN to achieve greater than 65% validation accuracy\n",
    "#   on CIFAR-10.\n",
    "# ================================================================ #\n",
    "\n",
    "\n",
    "model = ThreeLayerConvNet(weight_scale=0.001, hidden_dim=600, reg=0.0015)\n",
    "\n",
    "solver = Solver(model, data,\n",
    "                num_epochs=10, batch_size=200,\n",
    "                update_rule='adam',\n",
    "                optim_config={\n",
    "                  'learning_rate': 1e-3,\n",
    "                },\n",
    "                lr_decay = 0.95,\n",
    "                verbose=True, print_every=20)\n",
    "solver.train()\n",
    "\n",
    "# ================================================================ #\n",
    "# END YOUR CODE HERE\n",
    "# ================================================================ #\n"
   ]
  },
  {
   "cell_type": "code",
   "execution_count": null,
   "metadata": {},
   "outputs": [],
   "source": []
  }
 ],
 "metadata": {
  "kernelspec": {
   "display_name": "Python 3",
   "language": "python",
   "name": "python3"
  },
  "language_info": {
   "codemirror_mode": {
    "name": "ipython",
    "version": 3
   },
   "file_extension": ".py",
   "mimetype": "text/x-python",
   "name": "python",
   "nbconvert_exporter": "python",
   "pygments_lexer": "ipython3",
   "version": "3.6.4"
  }
 },
 "nbformat": 4,
 "nbformat_minor": 2
}
